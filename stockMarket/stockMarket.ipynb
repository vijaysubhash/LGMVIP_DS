{
 "cells": [
  {
   "cell_type": "markdown",
   "source": [
    "Importing necessary libraries"
   ],
   "metadata": {
    "collapsed": false,
    "pycharm": {
     "name": "#%% md\n"
    }
   }
  },
  {
   "cell_type": "code",
   "execution_count": 475,
   "outputs": [],
   "source": [
    "import numpy as np\n",
    "import pandas as pd\n",
    "import matplotlib.pyplot as plt\n",
    "import seaborn as sns"
   ],
   "metadata": {
    "collapsed": false,
    "pycharm": {
     "name": "#%%\n"
    }
   }
  },
  {
   "cell_type": "markdown",
   "source": [
    "Import the dataset"
   ],
   "metadata": {
    "collapsed": false,
    "pycharm": {
     "name": "#%% md\n"
    }
   }
  },
  {
   "cell_type": "code",
   "execution_count": 476,
   "outputs": [],
   "source": [
    "dataInfo = pd.read_csv(\"stock_market.csv\")\n",
    "dataInfo1 = dataInfo.reset_index()['Close']"
   ],
   "metadata": {
    "collapsed": false,
    "pycharm": {
     "name": "#%%\n"
    }
   }
  },
  {
   "cell_type": "markdown",
   "source": [
    "Viewing the dataframe"
   ],
   "metadata": {
    "collapsed": false,
    "pycharm": {
     "name": "#%% md\n"
    }
   }
  },
  {
   "cell_type": "code",
   "execution_count": 477,
   "outputs": [
    {
     "name": "stdout",
     "output_type": "stream",
     "text": [
      "<class 'pandas.core.frame.DataFrame'>\n",
      "RangeIndex: 2035 entries, 0 to 2034\n",
      "Data columns (total 8 columns):\n",
      " #   Column                Non-Null Count  Dtype  \n",
      "---  ------                --------------  -----  \n",
      " 0   Date                  2035 non-null   object \n",
      " 1   Open                  2035 non-null   float64\n",
      " 2   High                  2035 non-null   float64\n",
      " 3   Low                   2035 non-null   float64\n",
      " 4   Last                  2035 non-null   float64\n",
      " 5   Close                 2035 non-null   float64\n",
      " 6   Total Trade Quantity  2035 non-null   int64  \n",
      " 7   Turnover (Lacs)       2035 non-null   float64\n",
      "dtypes: float64(6), int64(1), object(1)\n",
      "memory usage: 127.3+ KB\n"
     ]
    }
   ],
   "source": [
    "dataInfo.info()"
   ],
   "metadata": {
    "collapsed": false,
    "pycharm": {
     "name": "#%%\n"
    }
   }
  },
  {
   "cell_type": "code",
   "execution_count": 478,
   "outputs": [
    {
     "data": {
      "text/plain": "(2035, 8)"
     },
     "execution_count": 478,
     "metadata": {},
     "output_type": "execute_result"
    }
   ],
   "source": [
    "dataInfo.shape"
   ],
   "metadata": {
    "collapsed": false,
    "pycharm": {
     "name": "#%%\n"
    }
   }
  },
  {
   "cell_type": "code",
   "execution_count": 479,
   "outputs": [
    {
     "data": {
      "text/plain": "            Date    Open    High     Low    Last   Close  \\\n0     28-09-2018  234.05  235.95  230.20  233.50  233.75   \n1     27-09-2018  234.55  236.80  231.10  233.80  233.25   \n2     26-09-2018  240.00  240.00  232.50  235.00  234.25   \n3     25-09-2018  233.30  236.75  232.00  236.25  236.10   \n4     24-09-2018  233.55  239.20  230.75  234.00  233.30   \n...          ...     ...     ...     ...     ...     ...   \n2030  27-07-2010  117.60  119.50  112.00  118.80  118.65   \n2031  26-07-2010  120.10  121.00  117.10  117.10  117.60   \n2032  23-07-2010  121.80  121.95  120.25  120.35  120.65   \n2033  22-07-2010  120.30  122.00  120.25  120.75  120.90   \n2034  21-07-2010  122.10  123.00  121.05  121.10  121.55   \n\n      Total Trade Quantity  Turnover (Lacs)  \n0                  3069914          7162.35  \n1                  5082859         11859.95  \n2                  2240909          5248.60  \n3                  2349368          5503.90  \n4                  3423509          7999.55  \n...                    ...              ...  \n2030                586100           694.98  \n2031                658440           780.01  \n2032                281312           340.31  \n2033                293312           355.17  \n2034                658666           803.56  \n\n[2035 rows x 8 columns]",
      "text/html": "<div>\n<style scoped>\n    .dataframe tbody tr th:only-of-type {\n        vertical-align: middle;\n    }\n\n    .dataframe tbody tr th {\n        vertical-align: top;\n    }\n\n    .dataframe thead th {\n        text-align: right;\n    }\n</style>\n<table border=\"1\" class=\"dataframe\">\n  <thead>\n    <tr style=\"text-align: right;\">\n      <th></th>\n      <th>Date</th>\n      <th>Open</th>\n      <th>High</th>\n      <th>Low</th>\n      <th>Last</th>\n      <th>Close</th>\n      <th>Total Trade Quantity</th>\n      <th>Turnover (Lacs)</th>\n    </tr>\n  </thead>\n  <tbody>\n    <tr>\n      <th>0</th>\n      <td>28-09-2018</td>\n      <td>234.05</td>\n      <td>235.95</td>\n      <td>230.20</td>\n      <td>233.50</td>\n      <td>233.75</td>\n      <td>3069914</td>\n      <td>7162.35</td>\n    </tr>\n    <tr>\n      <th>1</th>\n      <td>27-09-2018</td>\n      <td>234.55</td>\n      <td>236.80</td>\n      <td>231.10</td>\n      <td>233.80</td>\n      <td>233.25</td>\n      <td>5082859</td>\n      <td>11859.95</td>\n    </tr>\n    <tr>\n      <th>2</th>\n      <td>26-09-2018</td>\n      <td>240.00</td>\n      <td>240.00</td>\n      <td>232.50</td>\n      <td>235.00</td>\n      <td>234.25</td>\n      <td>2240909</td>\n      <td>5248.60</td>\n    </tr>\n    <tr>\n      <th>3</th>\n      <td>25-09-2018</td>\n      <td>233.30</td>\n      <td>236.75</td>\n      <td>232.00</td>\n      <td>236.25</td>\n      <td>236.10</td>\n      <td>2349368</td>\n      <td>5503.90</td>\n    </tr>\n    <tr>\n      <th>4</th>\n      <td>24-09-2018</td>\n      <td>233.55</td>\n      <td>239.20</td>\n      <td>230.75</td>\n      <td>234.00</td>\n      <td>233.30</td>\n      <td>3423509</td>\n      <td>7999.55</td>\n    </tr>\n    <tr>\n      <th>...</th>\n      <td>...</td>\n      <td>...</td>\n      <td>...</td>\n      <td>...</td>\n      <td>...</td>\n      <td>...</td>\n      <td>...</td>\n      <td>...</td>\n    </tr>\n    <tr>\n      <th>2030</th>\n      <td>27-07-2010</td>\n      <td>117.60</td>\n      <td>119.50</td>\n      <td>112.00</td>\n      <td>118.80</td>\n      <td>118.65</td>\n      <td>586100</td>\n      <td>694.98</td>\n    </tr>\n    <tr>\n      <th>2031</th>\n      <td>26-07-2010</td>\n      <td>120.10</td>\n      <td>121.00</td>\n      <td>117.10</td>\n      <td>117.10</td>\n      <td>117.60</td>\n      <td>658440</td>\n      <td>780.01</td>\n    </tr>\n    <tr>\n      <th>2032</th>\n      <td>23-07-2010</td>\n      <td>121.80</td>\n      <td>121.95</td>\n      <td>120.25</td>\n      <td>120.35</td>\n      <td>120.65</td>\n      <td>281312</td>\n      <td>340.31</td>\n    </tr>\n    <tr>\n      <th>2033</th>\n      <td>22-07-2010</td>\n      <td>120.30</td>\n      <td>122.00</td>\n      <td>120.25</td>\n      <td>120.75</td>\n      <td>120.90</td>\n      <td>293312</td>\n      <td>355.17</td>\n    </tr>\n    <tr>\n      <th>2034</th>\n      <td>21-07-2010</td>\n      <td>122.10</td>\n      <td>123.00</td>\n      <td>121.05</td>\n      <td>121.10</td>\n      <td>121.55</td>\n      <td>658666</td>\n      <td>803.56</td>\n    </tr>\n  </tbody>\n</table>\n<p>2035 rows × 8 columns</p>\n</div>"
     },
     "execution_count": 479,
     "metadata": {},
     "output_type": "execute_result"
    }
   ],
   "source": [
    "dataInfo"
   ],
   "metadata": {
    "collapsed": false,
    "pycharm": {
     "name": "#%%\n"
    }
   }
  },
  {
   "cell_type": "markdown",
   "source": [
    "Viewing head and tail info of the given dataset"
   ],
   "metadata": {
    "collapsed": false,
    "pycharm": {
     "name": "#%% md\n"
    }
   }
  },
  {
   "cell_type": "code",
   "execution_count": 480,
   "outputs": [
    {
     "data": {
      "text/plain": "         Date    Open    High     Low    Last   Close  Total Trade Quantity  \\\n0  28-09-2018  234.05  235.95  230.20  233.50  233.75               3069914   \n1  27-09-2018  234.55  236.80  231.10  233.80  233.25               5082859   \n2  26-09-2018  240.00  240.00  232.50  235.00  234.25               2240909   \n3  25-09-2018  233.30  236.75  232.00  236.25  236.10               2349368   \n4  24-09-2018  233.55  239.20  230.75  234.00  233.30               3423509   \n\n   Turnover (Lacs)  \n0          7162.35  \n1         11859.95  \n2          5248.60  \n3          5503.90  \n4          7999.55  ",
      "text/html": "<div>\n<style scoped>\n    .dataframe tbody tr th:only-of-type {\n        vertical-align: middle;\n    }\n\n    .dataframe tbody tr th {\n        vertical-align: top;\n    }\n\n    .dataframe thead th {\n        text-align: right;\n    }\n</style>\n<table border=\"1\" class=\"dataframe\">\n  <thead>\n    <tr style=\"text-align: right;\">\n      <th></th>\n      <th>Date</th>\n      <th>Open</th>\n      <th>High</th>\n      <th>Low</th>\n      <th>Last</th>\n      <th>Close</th>\n      <th>Total Trade Quantity</th>\n      <th>Turnover (Lacs)</th>\n    </tr>\n  </thead>\n  <tbody>\n    <tr>\n      <th>0</th>\n      <td>28-09-2018</td>\n      <td>234.05</td>\n      <td>235.95</td>\n      <td>230.20</td>\n      <td>233.50</td>\n      <td>233.75</td>\n      <td>3069914</td>\n      <td>7162.35</td>\n    </tr>\n    <tr>\n      <th>1</th>\n      <td>27-09-2018</td>\n      <td>234.55</td>\n      <td>236.80</td>\n      <td>231.10</td>\n      <td>233.80</td>\n      <td>233.25</td>\n      <td>5082859</td>\n      <td>11859.95</td>\n    </tr>\n    <tr>\n      <th>2</th>\n      <td>26-09-2018</td>\n      <td>240.00</td>\n      <td>240.00</td>\n      <td>232.50</td>\n      <td>235.00</td>\n      <td>234.25</td>\n      <td>2240909</td>\n      <td>5248.60</td>\n    </tr>\n    <tr>\n      <th>3</th>\n      <td>25-09-2018</td>\n      <td>233.30</td>\n      <td>236.75</td>\n      <td>232.00</td>\n      <td>236.25</td>\n      <td>236.10</td>\n      <td>2349368</td>\n      <td>5503.90</td>\n    </tr>\n    <tr>\n      <th>4</th>\n      <td>24-09-2018</td>\n      <td>233.55</td>\n      <td>239.20</td>\n      <td>230.75</td>\n      <td>234.00</td>\n      <td>233.30</td>\n      <td>3423509</td>\n      <td>7999.55</td>\n    </tr>\n  </tbody>\n</table>\n</div>"
     },
     "execution_count": 480,
     "metadata": {},
     "output_type": "execute_result"
    }
   ],
   "source": [
    "dataInfo.head()"
   ],
   "metadata": {
    "collapsed": false,
    "pycharm": {
     "name": "#%%\n"
    }
   }
  },
  {
   "cell_type": "code",
   "execution_count": 481,
   "outputs": [
    {
     "data": {
      "text/plain": "            Date   Open    High     Low    Last   Close  Total Trade Quantity  \\\n2030  27-07-2010  117.6  119.50  112.00  118.80  118.65                586100   \n2031  26-07-2010  120.1  121.00  117.10  117.10  117.60                658440   \n2032  23-07-2010  121.8  121.95  120.25  120.35  120.65                281312   \n2033  22-07-2010  120.3  122.00  120.25  120.75  120.90                293312   \n2034  21-07-2010  122.1  123.00  121.05  121.10  121.55                658666   \n\n      Turnover (Lacs)  \n2030           694.98  \n2031           780.01  \n2032           340.31  \n2033           355.17  \n2034           803.56  ",
      "text/html": "<div>\n<style scoped>\n    .dataframe tbody tr th:only-of-type {\n        vertical-align: middle;\n    }\n\n    .dataframe tbody tr th {\n        vertical-align: top;\n    }\n\n    .dataframe thead th {\n        text-align: right;\n    }\n</style>\n<table border=\"1\" class=\"dataframe\">\n  <thead>\n    <tr style=\"text-align: right;\">\n      <th></th>\n      <th>Date</th>\n      <th>Open</th>\n      <th>High</th>\n      <th>Low</th>\n      <th>Last</th>\n      <th>Close</th>\n      <th>Total Trade Quantity</th>\n      <th>Turnover (Lacs)</th>\n    </tr>\n  </thead>\n  <tbody>\n    <tr>\n      <th>2030</th>\n      <td>27-07-2010</td>\n      <td>117.6</td>\n      <td>119.50</td>\n      <td>112.00</td>\n      <td>118.80</td>\n      <td>118.65</td>\n      <td>586100</td>\n      <td>694.98</td>\n    </tr>\n    <tr>\n      <th>2031</th>\n      <td>26-07-2010</td>\n      <td>120.1</td>\n      <td>121.00</td>\n      <td>117.10</td>\n      <td>117.10</td>\n      <td>117.60</td>\n      <td>658440</td>\n      <td>780.01</td>\n    </tr>\n    <tr>\n      <th>2032</th>\n      <td>23-07-2010</td>\n      <td>121.8</td>\n      <td>121.95</td>\n      <td>120.25</td>\n      <td>120.35</td>\n      <td>120.65</td>\n      <td>281312</td>\n      <td>340.31</td>\n    </tr>\n    <tr>\n      <th>2033</th>\n      <td>22-07-2010</td>\n      <td>120.3</td>\n      <td>122.00</td>\n      <td>120.25</td>\n      <td>120.75</td>\n      <td>120.90</td>\n      <td>293312</td>\n      <td>355.17</td>\n    </tr>\n    <tr>\n      <th>2034</th>\n      <td>21-07-2010</td>\n      <td>122.1</td>\n      <td>123.00</td>\n      <td>121.05</td>\n      <td>121.10</td>\n      <td>121.55</td>\n      <td>658666</td>\n      <td>803.56</td>\n    </tr>\n  </tbody>\n</table>\n</div>"
     },
     "execution_count": 481,
     "metadata": {},
     "output_type": "execute_result"
    }
   ],
   "source": [
    "dataInfo.tail()"
   ],
   "metadata": {
    "collapsed": false,
    "pycharm": {
     "name": "#%%\n"
    }
   }
  },
  {
   "cell_type": "markdown",
   "source": [
    "Printing info and checking missing values"
   ],
   "metadata": {
    "collapsed": false,
    "pycharm": {
     "name": "#%% md\n"
    }
   }
  },
  {
   "cell_type": "code",
   "execution_count": 482,
   "outputs": [
    {
     "data": {
      "text/plain": "       Date   Open   High    Low   Last  Close  Total Trade Quantity  \\\n0     False  False  False  False  False  False                 False   \n1     False  False  False  False  False  False                 False   \n2     False  False  False  False  False  False                 False   \n3     False  False  False  False  False  False                 False   \n4     False  False  False  False  False  False                 False   \n...     ...    ...    ...    ...    ...    ...                   ...   \n2030  False  False  False  False  False  False                 False   \n2031  False  False  False  False  False  False                 False   \n2032  False  False  False  False  False  False                 False   \n2033  False  False  False  False  False  False                 False   \n2034  False  False  False  False  False  False                 False   \n\n      Turnover (Lacs)  \n0               False  \n1               False  \n2               False  \n3               False  \n4               False  \n...               ...  \n2030            False  \n2031            False  \n2032            False  \n2033            False  \n2034            False  \n\n[2035 rows x 8 columns]",
      "text/html": "<div>\n<style scoped>\n    .dataframe tbody tr th:only-of-type {\n        vertical-align: middle;\n    }\n\n    .dataframe tbody tr th {\n        vertical-align: top;\n    }\n\n    .dataframe thead th {\n        text-align: right;\n    }\n</style>\n<table border=\"1\" class=\"dataframe\">\n  <thead>\n    <tr style=\"text-align: right;\">\n      <th></th>\n      <th>Date</th>\n      <th>Open</th>\n      <th>High</th>\n      <th>Low</th>\n      <th>Last</th>\n      <th>Close</th>\n      <th>Total Trade Quantity</th>\n      <th>Turnover (Lacs)</th>\n    </tr>\n  </thead>\n  <tbody>\n    <tr>\n      <th>0</th>\n      <td>False</td>\n      <td>False</td>\n      <td>False</td>\n      <td>False</td>\n      <td>False</td>\n      <td>False</td>\n      <td>False</td>\n      <td>False</td>\n    </tr>\n    <tr>\n      <th>1</th>\n      <td>False</td>\n      <td>False</td>\n      <td>False</td>\n      <td>False</td>\n      <td>False</td>\n      <td>False</td>\n      <td>False</td>\n      <td>False</td>\n    </tr>\n    <tr>\n      <th>2</th>\n      <td>False</td>\n      <td>False</td>\n      <td>False</td>\n      <td>False</td>\n      <td>False</td>\n      <td>False</td>\n      <td>False</td>\n      <td>False</td>\n    </tr>\n    <tr>\n      <th>3</th>\n      <td>False</td>\n      <td>False</td>\n      <td>False</td>\n      <td>False</td>\n      <td>False</td>\n      <td>False</td>\n      <td>False</td>\n      <td>False</td>\n    </tr>\n    <tr>\n      <th>4</th>\n      <td>False</td>\n      <td>False</td>\n      <td>False</td>\n      <td>False</td>\n      <td>False</td>\n      <td>False</td>\n      <td>False</td>\n      <td>False</td>\n    </tr>\n    <tr>\n      <th>...</th>\n      <td>...</td>\n      <td>...</td>\n      <td>...</td>\n      <td>...</td>\n      <td>...</td>\n      <td>...</td>\n      <td>...</td>\n      <td>...</td>\n    </tr>\n    <tr>\n      <th>2030</th>\n      <td>False</td>\n      <td>False</td>\n      <td>False</td>\n      <td>False</td>\n      <td>False</td>\n      <td>False</td>\n      <td>False</td>\n      <td>False</td>\n    </tr>\n    <tr>\n      <th>2031</th>\n      <td>False</td>\n      <td>False</td>\n      <td>False</td>\n      <td>False</td>\n      <td>False</td>\n      <td>False</td>\n      <td>False</td>\n      <td>False</td>\n    </tr>\n    <tr>\n      <th>2032</th>\n      <td>False</td>\n      <td>False</td>\n      <td>False</td>\n      <td>False</td>\n      <td>False</td>\n      <td>False</td>\n      <td>False</td>\n      <td>False</td>\n    </tr>\n    <tr>\n      <th>2033</th>\n      <td>False</td>\n      <td>False</td>\n      <td>False</td>\n      <td>False</td>\n      <td>False</td>\n      <td>False</td>\n      <td>False</td>\n      <td>False</td>\n    </tr>\n    <tr>\n      <th>2034</th>\n      <td>False</td>\n      <td>False</td>\n      <td>False</td>\n      <td>False</td>\n      <td>False</td>\n      <td>False</td>\n      <td>False</td>\n      <td>False</td>\n    </tr>\n  </tbody>\n</table>\n<p>2035 rows × 8 columns</p>\n</div>"
     },
     "execution_count": 482,
     "metadata": {},
     "output_type": "execute_result"
    }
   ],
   "source": [
    "dataInfo.isnull()"
   ],
   "metadata": {
    "collapsed": false,
    "pycharm": {
     "name": "#%%\n"
    }
   }
  },
  {
   "cell_type": "code",
   "execution_count": 483,
   "outputs": [
    {
     "data": {
      "text/plain": "Date                    0\nOpen                    0\nHigh                    0\nLow                     0\nLast                    0\nClose                   0\nTotal Trade Quantity    0\nTurnover (Lacs)         0\ndtype: int64"
     },
     "execution_count": 483,
     "metadata": {},
     "output_type": "execute_result"
    }
   ],
   "source": [
    "dataInfo.isnull().sum()"
   ],
   "metadata": {
    "collapsed": false,
    "pycharm": {
     "name": "#%%\n"
    }
   }
  },
  {
   "cell_type": "markdown",
   "source": [
    "Descriptive summary"
   ],
   "metadata": {
    "collapsed": false,
    "pycharm": {
     "name": "#%% md\n"
    }
   }
  },
  {
   "cell_type": "code",
   "execution_count": 484,
   "outputs": [
    {
     "data": {
      "text/plain": "              Open         High          Low         Last       Close  \\\ncount  2035.000000  2035.000000  2035.000000  2035.000000  2035.00000   \nmean    149.713735   151.992826   147.293931   149.474251   149.45027   \nstd      48.664509    49.413109    47.931958    48.732570    48.71204   \nmin      81.100000    82.800000    80.000000    81.000000    80.95000   \n25%     120.025000   122.100000   118.300000   120.075000   120.05000   \n50%     141.500000   143.400000   139.600000   141.100000   141.25000   \n75%     157.175000   159.400000   155.150000   156.925000   156.90000   \nmax     327.700000   328.750000   321.650000   325.950000   325.75000   \n\n       Total Trade Quantity  Turnover (Lacs)  \ncount          2.035000e+03      2035.000000  \nmean           2.335681e+06      3899.980565  \nstd            2.091778e+06      4570.767877  \nmin            3.961000e+04        37.040000  \n25%            1.146444e+06      1427.460000  \n50%            1.783456e+06      2512.030000  \n75%            2.813594e+06      4539.015000  \nmax            2.919102e+07     55755.080000  ",
      "text/html": "<div>\n<style scoped>\n    .dataframe tbody tr th:only-of-type {\n        vertical-align: middle;\n    }\n\n    .dataframe tbody tr th {\n        vertical-align: top;\n    }\n\n    .dataframe thead th {\n        text-align: right;\n    }\n</style>\n<table border=\"1\" class=\"dataframe\">\n  <thead>\n    <tr style=\"text-align: right;\">\n      <th></th>\n      <th>Open</th>\n      <th>High</th>\n      <th>Low</th>\n      <th>Last</th>\n      <th>Close</th>\n      <th>Total Trade Quantity</th>\n      <th>Turnover (Lacs)</th>\n    </tr>\n  </thead>\n  <tbody>\n    <tr>\n      <th>count</th>\n      <td>2035.000000</td>\n      <td>2035.000000</td>\n      <td>2035.000000</td>\n      <td>2035.000000</td>\n      <td>2035.00000</td>\n      <td>2.035000e+03</td>\n      <td>2035.000000</td>\n    </tr>\n    <tr>\n      <th>mean</th>\n      <td>149.713735</td>\n      <td>151.992826</td>\n      <td>147.293931</td>\n      <td>149.474251</td>\n      <td>149.45027</td>\n      <td>2.335681e+06</td>\n      <td>3899.980565</td>\n    </tr>\n    <tr>\n      <th>std</th>\n      <td>48.664509</td>\n      <td>49.413109</td>\n      <td>47.931958</td>\n      <td>48.732570</td>\n      <td>48.71204</td>\n      <td>2.091778e+06</td>\n      <td>4570.767877</td>\n    </tr>\n    <tr>\n      <th>min</th>\n      <td>81.100000</td>\n      <td>82.800000</td>\n      <td>80.000000</td>\n      <td>81.000000</td>\n      <td>80.95000</td>\n      <td>3.961000e+04</td>\n      <td>37.040000</td>\n    </tr>\n    <tr>\n      <th>25%</th>\n      <td>120.025000</td>\n      <td>122.100000</td>\n      <td>118.300000</td>\n      <td>120.075000</td>\n      <td>120.05000</td>\n      <td>1.146444e+06</td>\n      <td>1427.460000</td>\n    </tr>\n    <tr>\n      <th>50%</th>\n      <td>141.500000</td>\n      <td>143.400000</td>\n      <td>139.600000</td>\n      <td>141.100000</td>\n      <td>141.25000</td>\n      <td>1.783456e+06</td>\n      <td>2512.030000</td>\n    </tr>\n    <tr>\n      <th>75%</th>\n      <td>157.175000</td>\n      <td>159.400000</td>\n      <td>155.150000</td>\n      <td>156.925000</td>\n      <td>156.90000</td>\n      <td>2.813594e+06</td>\n      <td>4539.015000</td>\n    </tr>\n    <tr>\n      <th>max</th>\n      <td>327.700000</td>\n      <td>328.750000</td>\n      <td>321.650000</td>\n      <td>325.950000</td>\n      <td>325.75000</td>\n      <td>2.919102e+07</td>\n      <td>55755.080000</td>\n    </tr>\n  </tbody>\n</table>\n</div>"
     },
     "execution_count": 484,
     "metadata": {},
     "output_type": "execute_result"
    }
   ],
   "source": [
    "dataInfo.describe()"
   ],
   "metadata": {
    "collapsed": false,
    "pycharm": {
     "name": "#%%\n"
    }
   }
  },
  {
   "cell_type": "markdown",
   "source": [
    "checking duplicates"
   ],
   "metadata": {
    "collapsed": false,
    "pycharm": {
     "name": "#%% md\n"
    }
   }
  },
  {
   "cell_type": "code",
   "execution_count": 485,
   "outputs": [
    {
     "data": {
      "text/plain": "False    2035\ndtype: int64"
     },
     "execution_count": 485,
     "metadata": {},
     "output_type": "execute_result"
    }
   ],
   "source": [
    "duplicates= dataInfo.duplicated()\n",
    "duplicates.value_counts()"
   ],
   "metadata": {
    "collapsed": false,
    "pycharm": {
     "name": "#%%\n"
    }
   }
  },
  {
   "cell_type": "markdown",
   "source": [
    "Visualizations"
   ],
   "metadata": {
    "collapsed": false,
    "pycharm": {
     "name": "#%% md\n"
    }
   }
  },
  {
   "cell_type": "markdown",
   "source": [
    "Heatmap"
   ],
   "metadata": {
    "collapsed": false,
    "pycharm": {
     "name": "#%% md\n"
    }
   }
  },
  {
   "cell_type": "code",
   "execution_count": 486,
   "outputs": [
    {
     "name": "stderr",
     "output_type": "stream",
     "text": [
      "C:\\Users\\polis\\AppData\\Local\\Temp\\ipykernel_11864\\2050812920.py:2: FutureWarning: The default value of numeric_only in DataFrame.corr is deprecated. In a future version, it will default to False. Select only valid columns or specify the value of numeric_only to silence this warning.\n",
      "  sns.heatmap(dataInfo.corr(), annot= True, cmap= 'GnBu', linecolor= 'black', linewidths= .5, fmt = \".1f\")\n"
     ]
    },
    {
     "data": {
      "text/plain": "<AxesSubplot: >"
     },
     "execution_count": 486,
     "metadata": {},
     "output_type": "execute_result"
    },
    {
     "data": {
      "text/plain": "<Figure size 600x600 with 2 Axes>",
      "image/png": "[encoded data removed]"
     },
     "metadata": {},
     "output_type": "display_data"
    }
   ],
   "source": [
    "plt.figure(figsize=(6,6))\n",
    "sns.heatmap(dataInfo.corr(), annot= True, cmap= 'GnBu', linecolor= 'black', linewidths= .5, fmt = \".1f\")"
   ],
   "metadata": {
    "collapsed": false,
    "pycharm": {
     "name": "#%%\n"
    }
   }
  },
  {
   "cell_type": "markdown",
   "source": [
    "Boxplot"
   ],
   "metadata": {
    "collapsed": false,
    "pycharm": {
     "name": "#%% md\n"
    }
   }
  },
  {
   "cell_type": "code",
   "execution_count": 487,
   "outputs": [
    {
     "data": {
      "text/plain": "<AxesSubplot: >"
     },
     "execution_count": 487,
     "metadata": {},
     "output_type": "execute_result"
    },
    {
     "data": {
      "text/plain": "<Figure size 640x480 with 1 Axes>",
      "image/png": "[encoded data removed]"
     },
     "metadata": {},
     "output_type": "display_data"
    }
   ],
   "source": [
    "sns.boxplot(dataInfo['Total Trade Quantity'])"
   ],
   "metadata": {
    "collapsed": false,
    "pycharm": {
     "name": "#%%\n"
    }
   }
  },
  {
   "cell_type": "markdown",
   "source": [
    "Data Normalization"
   ],
   "metadata": {
    "collapsed": false,
    "pycharm": {
     "name": "#%% md\n"
    }
   }
  },
  {
   "cell_type": "code",
   "execution_count": 488,
   "outputs": [],
   "source": [
    "from sklearn.preprocessing import MinMaxScaler\n",
    "scale = MinMaxScaler(feature_range=(0,1))\n",
    "dataInfo1 = scale.fit_transform(np.array(dataInfo1).reshape(-1,1))"
   ],
   "metadata": {
    "collapsed": false,
    "pycharm": {
     "name": "#%%\n"
    }
   }
  },
  {
   "cell_type": "markdown",
   "source": [
    "Training and Testing data"
   ],
   "metadata": {
    "collapsed": false,
    "pycharm": {
     "name": "#%% md\n"
    }
   }
  },
  {
   "cell_type": "code",
   "execution_count": 489,
   "outputs": [],
   "source": [
    "training_size=int(len(dataInfo1)*0.65)\n",
    "test_size=len(dataInfo1)-training_size\n",
    "train_data,test_data=dataInfo1[0:training_size,:],dataInfo1[training_size:len(dataInfo1),:1]"
   ],
   "metadata": {
    "collapsed": false,
    "pycharm": {
     "name": "#%%\n"
    }
   }
  },
  {
   "cell_type": "markdown",
   "source": [
    "Data Preprocessing"
   ],
   "metadata": {
    "collapsed": false,
    "pycharm": {
     "name": "#%% md\n"
    }
   }
  },
  {
   "cell_type": "code",
   "execution_count": 490,
   "outputs": [],
   "source": [
    "def create_dataset(dataset, step_time=1):\n",
    "    dataX, dataY = [], []\n",
    "    for i in range(len(dataset) - step_time - 1):\n",
    "        a = dataset[i:(i + step_time), 0]\n",
    "        dataX.append(a)\n",
    "        dataY.append(dataset[i + step_time, 0])\n",
    "    return np.array(dataX), np.array(dataY)\n",
    "time_step = 100\n",
    "x_train, y_train = create_dataset(train_data, time_step)\n",
    "x_test, y_test = create_dataset(test_data, time_step)"
   ],
   "metadata": {
    "collapsed": false,
    "pycharm": {
     "name": "#%%\n"
    }
   }
  },
  {
   "cell_type": "code",
   "execution_count": 491,
   "outputs": [
    {
     "data": {
      "text/plain": "array([[0.62418301, 0.62214052, 0.62622549, ..., 0.83455882, 0.86213235,\n        0.85273693],\n       [0.62214052, 0.62622549, 0.63378268, ..., 0.86213235, 0.85273693,\n        0.87111928],\n       [0.62622549, 0.63378268, 0.62234477, ..., 0.85273693, 0.87111928,\n        0.84497549],\n       ...,\n       [0.34517974, 0.31781046, 0.33047386, ..., 0.2816585 , 0.27001634,\n        0.26531863],\n       [0.31781046, 0.33047386, 0.32128268, ..., 0.27001634, 0.26531863,\n        0.27389706],\n       [0.33047386, 0.32128268, 0.34007353, ..., 0.26531863, 0.27389706,\n        0.25347222]])"
     },
     "execution_count": 491,
     "metadata": {},
     "output_type": "execute_result"
    }
   ],
   "source": [
    "x_train"
   ],
   "metadata": {
    "collapsed": false,
    "pycharm": {
     "name": "#%%\n"
    }
   }
  },
  {
   "cell_type": "markdown",
   "source": [
    "Reshaping for implementing LSTM"
   ],
   "metadata": {
    "collapsed": false,
    "pycharm": {
     "name": "#%% md\n"
    }
   }
  },
  {
   "cell_type": "code",
   "execution_count": 492,
   "outputs": [],
   "source": [
    "X_train =x_train.reshape(x_train.shape[0],x_train.shape[1] , 1)\n",
    "X_test = x_test.reshape(x_test.shape[0],x_test.shape[1] , 1)\n"
   ],
   "metadata": {
    "collapsed": false,
    "pycharm": {
     "name": "#%%\n"
    }
   }
  },
  {
   "cell_type": "markdown",
   "source": [
    "LSTM"
   ],
   "metadata": {
    "collapsed": false,
    "pycharm": {
     "name": "#%% md\n"
    }
   }
  },
  {
   "cell_type": "code",
   "execution_count": 493,
   "outputs": [],
   "source": [
    "from keras.models import Sequential\n",
    "from keras.layers import LSTM\n",
    "from keras.layers import Dense"
   ],
   "metadata": {
    "collapsed": false,
    "pycharm": {
     "name": "#%%\n"
    }
   }
  },
  {
   "cell_type": "code",
   "execution_count": 494,
   "outputs": [],
   "source": [
    "model=Sequential()\n",
    "model.add(LSTM(50,return_sequences=True,input_shape=(100,1)))\n",
    "model.add(LSTM(50,return_sequences=True))\n",
    "model.add(LSTM(50))\n",
    "model.add(Dense(1))\n",
    "model.compile(loss='mean_squared_error',optimizer='adam')"
   ],
   "metadata": {
    "collapsed": false,
    "pycharm": {
     "name": "#%%\n"
    }
   }
  },
  {
   "cell_type": "markdown",
   "source": [
    "Prediction"
   ],
   "metadata": {
    "collapsed": false,
    "pycharm": {
     "name": "#%% md\n"
    }
   }
  },
  {
   "cell_type": "code",
   "execution_count": 495,
   "outputs": [
    {
     "name": "stdout",
     "output_type": "stream",
     "text": [
      "39/39 [==============================] - 2s 19ms/step\n",
      "20/20 [==============================] - 0s 18ms/step\n"
     ]
    }
   ],
   "source": [
    "train_predict=model.predict(X_train)\n",
    "test_predict=model.predict(X_test)\n",
    "train_predict=scale.inverse_transform(train_predict)\n",
    "test_predict=scale.inverse_transform(test_predict)"
   ],
   "metadata": {
    "collapsed": false,
    "pycharm": {
     "name": "#%%\n"
    }
   }
  },
  {
   "cell_type": "code",
   "execution_count": 496,
   "outputs": [
    {
     "data": {
      "text/plain": "85.67211108184225"
     },
     "execution_count": 496,
     "metadata": {},
     "output_type": "execute_result"
    }
   ],
   "source": [
    "import math\n",
    "from sklearn.metrics import mean_squared_error\n",
    "math.sqrt(mean_squared_error(y_train,train_predict))"
   ],
   "metadata": {
    "collapsed": false,
    "pycharm": {
     "name": "#%%\n"
    }
   }
  },
  {
   "cell_type": "code",
   "execution_count": 497,
   "outputs": [
    {
     "data": {
      "text/plain": "82.8756176585159"
     },
     "execution_count": 497,
     "metadata": {},
     "output_type": "execute_result"
    }
   ],
   "source": [
    "math.sqrt(mean_squared_error(y_test,test_predict))"
   ],
   "metadata": {
    "collapsed": false,
    "pycharm": {
     "name": "#%%\n"
    }
   }
  },
  {
   "cell_type": "markdown",
   "source": [],
   "metadata": {
    "collapsed": false,
    "pycharm": {
     "name": "#%% md\n"
    }
   }
  }
 ],
 "metadata": {
  "kernelspec": {
   "display_name": "Python 3",
   "language": "python",
   "name": "python3"
  },
  "language_info": {
   "codemirror_mode": {
    "name": "ipython",
    "version": 2
   },
   "file_extension": ".py",
   "mimetype": "text/x-python",
   "name": "python",
   "nbconvert_exporter": "python",
   "pygments_lexer": "ipython2",
   "version": "2.7.6"
  }
 },
 "nbformat": 4,
 "nbformat_minor": 0
}